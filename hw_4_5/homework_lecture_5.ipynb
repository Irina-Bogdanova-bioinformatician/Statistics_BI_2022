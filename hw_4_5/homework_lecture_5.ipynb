{
  "nbformat": 4,
  "nbformat_minor": 0,
  "metadata": {
    "colab": {
      "provenance": [],
      "collapsed_sections": [],
      "include_colab_link": true
    },
    "kernelspec": {
      "name": "python3",
      "display_name": "Python 3"
    },
    "language_info": {
      "name": "python"
    }
  },
  "cells": [
    {
      "cell_type": "markdown",
      "metadata": {
        "id": "view-in-github",
        "colab_type": "text"
      },
      "source": [
        "<a href=\"https://colab.research.google.com/github/Irina-Bogdanova-bioinformatician/Statistics_BI_2022/blob/hw_4_5/hw_4_5/homework_lecture_5.ipynb\" target=\"_parent\"><img src=\"https://colab.research.google.com/assets/colab-badge.svg\" alt=\"Open In Colab\"/></a>"
      ]
    },
    {
      "cell_type": "code",
      "execution_count": 1,
      "metadata": {
        "id": "OLE-TC4eN1HP"
      },
      "outputs": [],
      "source": [
        "import pandas as pd\n",
        "import seaborn as sns\n",
        "import matplotlib.pyplot as plt\n",
        "import numpy as np"
      ]
    },
    {
      "cell_type": "code",
      "source": [
        "from google.colab import drive\n",
        "drive.mount('/content/drive')"
      ],
      "metadata": {
        "colab": {
          "base_uri": "https://localhost:8080/"
        },
        "id": "bCubDk3QJT3g",
        "outputId": "85c6f24f-972b-4a54-b637-9665ee386ff4"
      },
      "execution_count": 2,
      "outputs": [
        {
          "output_type": "stream",
          "name": "stdout",
          "text": [
            "Mounted at /content/drive\n"
          ]
        }
      ]
    },
    {
      "cell_type": "code",
      "source": [
        "# В переменную data_path надо положить путь до данных\n",
        "data_path = \"drive/MyDrive\"\n",
        "expression_data = pd.read_csv(f\"{data_path}/homework_lecture_5_data.csv\", index_col=0)\n",
        "expression_data.head()"
      ],
      "metadata": {
        "colab": {
          "base_uri": "https://localhost:8080/",
          "height": 300
        },
        "id": "OQxt1TdvN_mT",
        "outputId": "168f313a-5a5d-4911-b3fd-6b8dd4313db4"
      },
      "execution_count": 3,
      "outputs": [
        {
          "output_type": "execute_result",
          "data": {
            "text/plain": [
              "       TMCC1     RANBP3    GABRG3    ARRDC5       LRP3      TIMM23      TBPL1  \\\n",
              "0  33.888550  38.384340  0.044721  1.385159  11.341853  105.193306  26.463990   \n",
              "1  16.497124  35.054090  0.314645  4.329797   8.649321   50.577618  16.684614   \n",
              "2   5.449933  31.783958  0.002949  2.137536   1.750892  109.201050  35.265984   \n",
              "3  33.362240  56.147026  0.037295  1.604904   6.807299  100.141620  25.446817   \n",
              "4  50.188510  30.165264  0.039678  1.501439   1.619954   46.916790  28.053373   \n",
              "\n",
              "      BIRC8     TTC28   C19orf66  ...     MAGEA6       IL4I1     LCN12  \\\n",
              "0  0.000000  1.537873  27.645407  ...  21.332443    1.397932  0.000000   \n",
              "1  0.000000  1.796609  13.715611  ...   1.199440  159.147130  0.259244   \n",
              "2  0.011501  0.878889  19.361662  ...   0.002924   25.256378  0.000000   \n",
              "3  0.000000  2.502661  12.745437  ...   0.000000   14.509516  0.063003   \n",
              "4  0.018181  1.165164  30.318027  ...   0.033807   93.681190  0.031816   \n",
              "\n",
              "        SMG6  C1orf100      WDR75    ZBTB26    SPTY2D1    PLEKHA2  Cell_type  \n",
              "0  23.136585  0.001902  60.218548  6.307399   9.577274  44.026940     B_cell  \n",
              "1  18.986986  0.310971  25.818224  4.193348  14.181196  35.779896     B_cell  \n",
              "2  32.941895  0.000000  99.555990  8.323141  29.321960  30.816538     B_cell  \n",
              "3  19.036896  0.000000  49.394980  4.655794  17.683067  47.143270     B_cell  \n",
              "4  19.094831  0.000000  20.201437  6.935232  20.769829  53.935143     B_cell  \n",
              "\n",
              "[5 rows x 18793 columns]"
            ],
            "text/html": [
              "\n",
              "  <div id=\"df-4a8fca83-c40a-4f11-9a2e-b39eb712f286\">\n",
              "    <div class=\"colab-df-container\">\n",
              "      <div>\n",
              "<style scoped>\n",
              "    .dataframe tbody tr th:only-of-type {\n",
              "        vertical-align: middle;\n",
              "    }\n",
              "\n",
              "    .dataframe tbody tr th {\n",
              "        vertical-align: top;\n",
              "    }\n",
              "\n",
              "    .dataframe thead th {\n",
              "        text-align: right;\n",
              "    }\n",
              "</style>\n",
              "<table border=\"1\" class=\"dataframe\">\n",
              "  <thead>\n",
              "    <tr style=\"text-align: right;\">\n",
              "      <th></th>\n",
              "      <th>TMCC1</th>\n",
              "      <th>RANBP3</th>\n",
              "      <th>GABRG3</th>\n",
              "      <th>ARRDC5</th>\n",
              "      <th>LRP3</th>\n",
              "      <th>TIMM23</th>\n",
              "      <th>TBPL1</th>\n",
              "      <th>BIRC8</th>\n",
              "      <th>TTC28</th>\n",
              "      <th>C19orf66</th>\n",
              "      <th>...</th>\n",
              "      <th>MAGEA6</th>\n",
              "      <th>IL4I1</th>\n",
              "      <th>LCN12</th>\n",
              "      <th>SMG6</th>\n",
              "      <th>C1orf100</th>\n",
              "      <th>WDR75</th>\n",
              "      <th>ZBTB26</th>\n",
              "      <th>SPTY2D1</th>\n",
              "      <th>PLEKHA2</th>\n",
              "      <th>Cell_type</th>\n",
              "    </tr>\n",
              "  </thead>\n",
              "  <tbody>\n",
              "    <tr>\n",
              "      <th>0</th>\n",
              "      <td>33.888550</td>\n",
              "      <td>38.384340</td>\n",
              "      <td>0.044721</td>\n",
              "      <td>1.385159</td>\n",
              "      <td>11.341853</td>\n",
              "      <td>105.193306</td>\n",
              "      <td>26.463990</td>\n",
              "      <td>0.000000</td>\n",
              "      <td>1.537873</td>\n",
              "      <td>27.645407</td>\n",
              "      <td>...</td>\n",
              "      <td>21.332443</td>\n",
              "      <td>1.397932</td>\n",
              "      <td>0.000000</td>\n",
              "      <td>23.136585</td>\n",
              "      <td>0.001902</td>\n",
              "      <td>60.218548</td>\n",
              "      <td>6.307399</td>\n",
              "      <td>9.577274</td>\n",
              "      <td>44.026940</td>\n",
              "      <td>B_cell</td>\n",
              "    </tr>\n",
              "    <tr>\n",
              "      <th>1</th>\n",
              "      <td>16.497124</td>\n",
              "      <td>35.054090</td>\n",
              "      <td>0.314645</td>\n",
              "      <td>4.329797</td>\n",
              "      <td>8.649321</td>\n",
              "      <td>50.577618</td>\n",
              "      <td>16.684614</td>\n",
              "      <td>0.000000</td>\n",
              "      <td>1.796609</td>\n",
              "      <td>13.715611</td>\n",
              "      <td>...</td>\n",
              "      <td>1.199440</td>\n",
              "      <td>159.147130</td>\n",
              "      <td>0.259244</td>\n",
              "      <td>18.986986</td>\n",
              "      <td>0.310971</td>\n",
              "      <td>25.818224</td>\n",
              "      <td>4.193348</td>\n",
              "      <td>14.181196</td>\n",
              "      <td>35.779896</td>\n",
              "      <td>B_cell</td>\n",
              "    </tr>\n",
              "    <tr>\n",
              "      <th>2</th>\n",
              "      <td>5.449933</td>\n",
              "      <td>31.783958</td>\n",
              "      <td>0.002949</td>\n",
              "      <td>2.137536</td>\n",
              "      <td>1.750892</td>\n",
              "      <td>109.201050</td>\n",
              "      <td>35.265984</td>\n",
              "      <td>0.011501</td>\n",
              "      <td>0.878889</td>\n",
              "      <td>19.361662</td>\n",
              "      <td>...</td>\n",
              "      <td>0.002924</td>\n",
              "      <td>25.256378</td>\n",
              "      <td>0.000000</td>\n",
              "      <td>32.941895</td>\n",
              "      <td>0.000000</td>\n",
              "      <td>99.555990</td>\n",
              "      <td>8.323141</td>\n",
              "      <td>29.321960</td>\n",
              "      <td>30.816538</td>\n",
              "      <td>B_cell</td>\n",
              "    </tr>\n",
              "    <tr>\n",
              "      <th>3</th>\n",
              "      <td>33.362240</td>\n",
              "      <td>56.147026</td>\n",
              "      <td>0.037295</td>\n",
              "      <td>1.604904</td>\n",
              "      <td>6.807299</td>\n",
              "      <td>100.141620</td>\n",
              "      <td>25.446817</td>\n",
              "      <td>0.000000</td>\n",
              "      <td>2.502661</td>\n",
              "      <td>12.745437</td>\n",
              "      <td>...</td>\n",
              "      <td>0.000000</td>\n",
              "      <td>14.509516</td>\n",
              "      <td>0.063003</td>\n",
              "      <td>19.036896</td>\n",
              "      <td>0.000000</td>\n",
              "      <td>49.394980</td>\n",
              "      <td>4.655794</td>\n",
              "      <td>17.683067</td>\n",
              "      <td>47.143270</td>\n",
              "      <td>B_cell</td>\n",
              "    </tr>\n",
              "    <tr>\n",
              "      <th>4</th>\n",
              "      <td>50.188510</td>\n",
              "      <td>30.165264</td>\n",
              "      <td>0.039678</td>\n",
              "      <td>1.501439</td>\n",
              "      <td>1.619954</td>\n",
              "      <td>46.916790</td>\n",
              "      <td>28.053373</td>\n",
              "      <td>0.018181</td>\n",
              "      <td>1.165164</td>\n",
              "      <td>30.318027</td>\n",
              "      <td>...</td>\n",
              "      <td>0.033807</td>\n",
              "      <td>93.681190</td>\n",
              "      <td>0.031816</td>\n",
              "      <td>19.094831</td>\n",
              "      <td>0.000000</td>\n",
              "      <td>20.201437</td>\n",
              "      <td>6.935232</td>\n",
              "      <td>20.769829</td>\n",
              "      <td>53.935143</td>\n",
              "      <td>B_cell</td>\n",
              "    </tr>\n",
              "  </tbody>\n",
              "</table>\n",
              "<p>5 rows × 18793 columns</p>\n",
              "</div>\n",
              "      <button class=\"colab-df-convert\" onclick=\"convertToInteractive('df-4a8fca83-c40a-4f11-9a2e-b39eb712f286')\"\n",
              "              title=\"Convert this dataframe to an interactive table.\"\n",
              "              style=\"display:none;\">\n",
              "        \n",
              "  <svg xmlns=\"http://www.w3.org/2000/svg\" height=\"24px\"viewBox=\"0 0 24 24\"\n",
              "       width=\"24px\">\n",
              "    <path d=\"M0 0h24v24H0V0z\" fill=\"none\"/>\n",
              "    <path d=\"M18.56 5.44l.94 2.06.94-2.06 2.06-.94-2.06-.94-.94-2.06-.94 2.06-2.06.94zm-11 1L8.5 8.5l.94-2.06 2.06-.94-2.06-.94L8.5 2.5l-.94 2.06-2.06.94zm10 10l.94 2.06.94-2.06 2.06-.94-2.06-.94-.94-2.06-.94 2.06-2.06.94z\"/><path d=\"M17.41 7.96l-1.37-1.37c-.4-.4-.92-.59-1.43-.59-.52 0-1.04.2-1.43.59L10.3 9.45l-7.72 7.72c-.78.78-.78 2.05 0 2.83L4 21.41c.39.39.9.59 1.41.59.51 0 1.02-.2 1.41-.59l7.78-7.78 2.81-2.81c.8-.78.8-2.07 0-2.86zM5.41 20L4 18.59l7.72-7.72 1.47 1.35L5.41 20z\"/>\n",
              "  </svg>\n",
              "      </button>\n",
              "      \n",
              "  <style>\n",
              "    .colab-df-container {\n",
              "      display:flex;\n",
              "      flex-wrap:wrap;\n",
              "      gap: 12px;\n",
              "    }\n",
              "\n",
              "    .colab-df-convert {\n",
              "      background-color: #E8F0FE;\n",
              "      border: none;\n",
              "      border-radius: 50%;\n",
              "      cursor: pointer;\n",
              "      display: none;\n",
              "      fill: #1967D2;\n",
              "      height: 32px;\n",
              "      padding: 0 0 0 0;\n",
              "      width: 32px;\n",
              "    }\n",
              "\n",
              "    .colab-df-convert:hover {\n",
              "      background-color: #E2EBFA;\n",
              "      box-shadow: 0px 1px 2px rgba(60, 64, 67, 0.3), 0px 1px 3px 1px rgba(60, 64, 67, 0.15);\n",
              "      fill: #174EA6;\n",
              "    }\n",
              "\n",
              "    [theme=dark] .colab-df-convert {\n",
              "      background-color: #3B4455;\n",
              "      fill: #D2E3FC;\n",
              "    }\n",
              "\n",
              "    [theme=dark] .colab-df-convert:hover {\n",
              "      background-color: #434B5C;\n",
              "      box-shadow: 0px 1px 3px 1px rgba(0, 0, 0, 0.15);\n",
              "      filter: drop-shadow(0px 1px 2px rgba(0, 0, 0, 0.3));\n",
              "      fill: #FFFFFF;\n",
              "    }\n",
              "  </style>\n",
              "\n",
              "      <script>\n",
              "        const buttonEl =\n",
              "          document.querySelector('#df-4a8fca83-c40a-4f11-9a2e-b39eb712f286 button.colab-df-convert');\n",
              "        buttonEl.style.display =\n",
              "          google.colab.kernel.accessAllowed ? 'block' : 'none';\n",
              "\n",
              "        async function convertToInteractive(key) {\n",
              "          const element = document.querySelector('#df-4a8fca83-c40a-4f11-9a2e-b39eb712f286');\n",
              "          const dataTable =\n",
              "            await google.colab.kernel.invokeFunction('convertToInteractive',\n",
              "                                                     [key], {});\n",
              "          if (!dataTable) return;\n",
              "\n",
              "          const docLinkHtml = 'Like what you see? Visit the ' +\n",
              "            '<a target=\"_blank\" href=https://colab.research.google.com/notebooks/data_table.ipynb>data table notebook</a>'\n",
              "            + ' to learn more about interactive tables.';\n",
              "          element.innerHTML = '';\n",
              "          dataTable['output_type'] = 'display_data';\n",
              "          await google.colab.output.renderOutput(dataTable, element);\n",
              "          const docLink = document.createElement('div');\n",
              "          docLink.innerHTML = docLinkHtml;\n",
              "          element.appendChild(docLink);\n",
              "        }\n",
              "      </script>\n",
              "    </div>\n",
              "  </div>\n",
              "  "
            ]
          },
          "metadata": {},
          "execution_count": 3
        }
      ]
    },
    {
      "cell_type": "code",
      "source": [
        "b_cells_expression_data = expression_data.query(\"Cell_type == 'B_cell'\")\n",
        "nk_cells_expression_data = expression_data.query(\"Cell_type == 'NK_cell'\")"
      ],
      "metadata": {
        "id": "9k75ZGZyVBhu"
      },
      "execution_count": 4,
      "outputs": []
    },
    {
      "cell_type": "markdown",
      "source": [
        "В этом задании мы будем работать с данными об экспрессии генов в друх клеточных типах: в B-клетках и в NK-клетках. Выясним, средняя экспрессия каких генов значимо различается в этих клеточных типах."
      ],
      "metadata": {
        "id": "OAUclhJ3UC2p"
      }
    },
    {
      "cell_type": "code",
      "source": [
        "example_gene = \"TMCC1\""
      ],
      "metadata": {
        "id": "1o1vmOSoQMRy"
      },
      "execution_count": 5,
      "outputs": []
    },
    {
      "cell_type": "markdown",
      "source": [
        "## Задание 1\n",
        "\n",
        "**2 баллов**"
      ],
      "metadata": {
        "id": "gFSq8BCiUb_m"
      }
    },
    {
      "cell_type": "markdown",
      "source": [
        "Посмотрим на распределение экспрессий гена `TMCC1` в обоих клеточных типах."
      ],
      "metadata": {
        "id": "419ztR7lVm_E"
      }
    },
    {
      "cell_type": "code",
      "source": [
        "sns.histplot(b_cells_expression_data[example_gene], stat=\"density\");"
      ],
      "metadata": {
        "colab": {
          "base_uri": "https://localhost:8080/",
          "height": 279
        },
        "id": "0ln2fQG2QMen",
        "outputId": "333ac040-a783-4c3a-f6d1-e290b9d06c07"
      },
      "execution_count": 6,
      "outputs": [
        {
          "output_type": "display_data",
          "data": {
            "text/plain": [
              "<Figure size 432x288 with 1 Axes>"
            ],
            "image/png": "[encoded data removed]"
          },
          "metadata": {
            "needs_background": "light"
          }
        }
      ]
    },
    {
      "cell_type": "code",
      "source": [
        "sns.histplot(nk_cells_expression_data[example_gene], stat=\"density\");"
      ],
      "metadata": {
        "colab": {
          "base_uri": "https://localhost:8080/",
          "height": 281
        },
        "id": "pNdIdzpYQMpu",
        "outputId": "632ec748-d569-49a8-ad04-9a91abac4270"
      },
      "execution_count": 7,
      "outputs": [
        {
          "output_type": "display_data",
          "data": {
            "text/plain": [
              "<Figure size 432x288 with 1 Axes>"
            ],
            "image/png": "[encoded data removed]"
          },
          "metadata": {
            "needs_background": "light"
          }
        }
      ]
    },
    {
      "cell_type": "markdown",
      "source": [
        "Кажется, что они немного различаются. Для начала давайте попробуем еще раз проверить центральную предельную теорему.\n",
        "\n",
        "**Задание:**\n",
        "\n",
        "Напишите функцию, которая будет принимать на вход экспрессии гена, семплировать из них выборки размера `sample_size`, считать среднюю экспрессию и повторять это `n_samples` раз. Примените эту функцию к экспрессиям гена `TMCC1` в обоих клеточных типах, визуализируйте их. Отличаются ли средние экспрессии данного гена у этих клеточных типов?"
      ],
      "metadata": {
        "id": "TvQPlK5zV77n"
      }
    },
    {
      "cell_type": "code",
      "source": [
        "def demonstrate_clt(expressions, sample_size, n_samples):\n",
        "    mean_expressions = []\n",
        "    for i in range(n_samples):\n",
        "      sample = np.random.choice(expressions, size=sample_size)\n",
        "      mean_expressions.append(np.mean(sample))\n",
        "\n",
        "    return mean_expressions"
      ],
      "metadata": {
        "id": "liScG4k7qVtW"
      },
      "execution_count": 8,
      "outputs": []
    },
    {
      "cell_type": "code",
      "source": [
        "sample_size = 500\n",
        "n_samples = 500\n",
        "\n",
        "B_mean_expressions = demonstrate_clt(b_cells_expression_data[example_gene], sample_size, n_samples)\n",
        "sns.histplot(B_mean_expressions, stat=\"density\");"
      ],
      "metadata": {
        "colab": {
          "base_uri": "https://localhost:8080/",
          "height": 265
        },
        "id": "PO9JdV4Zv-5Z",
        "outputId": "5e425baa-6d45-4387-e324-12b8888ee89f"
      },
      "execution_count": 17,
      "outputs": [
        {
          "output_type": "display_data",
          "data": {
            "text/plain": [
              "<Figure size 432x288 with 1 Axes>"
            ],
            "image/png": "[encoded data removed]"
          },
          "metadata": {
            "needs_background": "light"
          }
        }
      ]
    },
    {
      "cell_type": "code",
      "source": [
        "\n",
        "NK_mean_expressions = demonstrate_clt(nk_cells_expression_data[example_gene], sample_size, n_samples)\n",
        "sns.histplot(NK_mean_expressions, stat=\"density\");"
      ],
      "metadata": {
        "colab": {
          "base_uri": "https://localhost:8080/",
          "height": 265
        },
        "id": "EqZ6hF1BzBi3",
        "outputId": "ab996000-7f78-40ee-a252-44079a13532c"
      },
      "execution_count": 18,
      "outputs": [
        {
          "output_type": "display_data",
          "data": {
            "text/plain": [
              "<Figure size 432x288 with 1 Axes>"
            ],
            "image/png": "[encoded data removed]"
          },
          "metadata": {
            "needs_background": "light"
          }
        }
      ]
    },
    {
      "cell_type": "markdown",
      "source": [
        "Судя по полученным графикам, средние экспрессии данного гена у этих клеточных типов отличаются."
      ],
      "metadata": {
        "id": "NwbeMm9dUvs0"
      }
    },
    {
      "cell_type": "markdown",
      "source": [
        "А теперь посчитайте 95% доверительные интервалы для обоих распределений (примем тот факт, что средние распределены нормально для обоих клеточных типов) и скажите, отличается ли средняя экспрессия данного гена между клеточными типами?"
      ],
      "metadata": {
        "id": "dy8xJYbfa_1W"
      }
    },
    {
      "cell_type": "code",
      "source": [
        "def calculate_ci(sample, std=None):\n",
        "    if std is None:\n",
        "        std = sample.std()\n",
        "    \n",
        "    mean = sample.mean()\n",
        "    se = std / np.sqrt(len(sample))\n",
        "    left_b = mean - 1.96 * se\n",
        "    right_b = mean + 1.96 * se\n",
        "\n",
        "    return left_b, right_b"
      ],
      "metadata": {
        "id": "ZtEKz5jzZ65A"
      },
      "execution_count": 19,
      "outputs": []
    },
    {
      "cell_type": "code",
      "source": [
        "# Рассчитаем 95% доверительный интервал для В-клеток\n",
        "left_b, right_b = calculate_ci(b_cells_expression_data[example_gene])\n",
        "left_b, right_b"
      ],
      "metadata": {
        "colab": {
          "base_uri": "https://localhost:8080/"
        },
        "id": "LSfV4wBPbj6a",
        "outputId": "02570dc7-224c-4444-e94a-5675464726cf"
      },
      "execution_count": 21,
      "outputs": [
        {
          "output_type": "execute_result",
          "data": {
            "text/plain": [
              "(23.42883838285794, 30.529105275542065)"
            ]
          },
          "metadata": {},
          "execution_count": 21
        }
      ]
    },
    {
      "cell_type": "code",
      "source": [
        "# Рассчитаем 95% доверительный интервал для NK-клеток\n",
        "left_b, right_b = calculate_ci(nk_cells_expression_data[example_gene])\n",
        "left_b, right_b"
      ],
      "metadata": {
        "colab": {
          "base_uri": "https://localhost:8080/"
        },
        "id": "OSoMJTp8cykB",
        "outputId": "d5104ddb-68b9-4a08-9ff6-5ad90c3a851f"
      },
      "execution_count": 23,
      "outputs": [
        {
          "output_type": "execute_result",
          "data": {
            "text/plain": [
              "(26.854734824710704, 34.00790437608929)"
            ]
          },
          "metadata": {},
          "execution_count": 23
        }
      ]
    },
    {
      "cell_type": "markdown",
      "source": [
        "Как видно из полученных данных, доверительные интервалы для средней экспрессии гена TMCC1 в рассматриваемых группах пересекаются, поэтому мы не можем сказать, что средняя экспрессия различается в группах B- и NK-клеток."
      ],
      "metadata": {
        "id": "GKWnhk9Wf6ro"
      }
    },
    {
      "cell_type": "markdown",
      "source": [
        "## Задание 2\n",
        "\n",
        "**4 баллов**"
      ],
      "metadata": {
        "id": "ohXJ3B-TcwP1"
      }
    },
    {
      "cell_type": "markdown",
      "source": [
        "Вспомнили центральную предельную теорему и то, как считать доверительные интервалы в простом случае, теперь давайте воспользуемся библиотечной реализацией для того, чтобы протестировать уже все гены. "
      ],
      "metadata": {
        "id": "OZeMqL9KdCZW"
      }
    },
    {
      "cell_type": "code",
      "source": [
        "import scipy.stats as st"
      ],
      "metadata": {
        "id": "lWagSgzjabYZ"
      },
      "execution_count": 24,
      "outputs": []
    },
    {
      "cell_type": "markdown",
      "source": [
        "Посчитаем доверительные интервалы для нашего демонстрационного гена в обоих клеточных типах:"
      ],
      "metadata": {
        "id": "8UF6p1vpekvX"
      }
    },
    {
      "cell_type": "code",
      "source": [
        "# B клетки\n",
        "st.t.interval(alpha=0.95, # 95% доверительный интервал\n",
        "              df=len(b_cells_expression_data[example_gene]) - 1, # число степеней свободы - 1\n",
        "              loc=np.mean(b_cells_expression_data[example_gene]), # Среднее\n",
        "              scale=st.sem(b_cells_expression_data[example_gene])) # Стандартная ошибка среднего"
      ],
      "metadata": {
        "colab": {
          "base_uri": "https://localhost:8080/"
        },
        "id": "6D37bTt5cyVm",
        "outputId": "28203d5a-729c-479d-cc9b-ba6eeab48f30"
      },
      "execution_count": 25,
      "outputs": [
        {
          "output_type": "execute_result",
          "data": {
            "text/plain": [
              "(23.420272072079296, 30.53767158632071)"
            ]
          },
          "metadata": {},
          "execution_count": 25
        }
      ]
    },
    {
      "cell_type": "code",
      "source": [
        "# NK клетки\n",
        "st.t.interval(alpha=0.95, # 95% доверительный интервал\n",
        "              df=len(nk_cells_expression_data[example_gene]) - 1, # число степеней свободы - 1\n",
        "              loc=np.mean(nk_cells_expression_data[example_gene]), # Среднее\n",
        "              scale=st.sem(nk_cells_expression_data[example_gene])) # Стандартная ошибка среднего"
      ],
      "metadata": {
        "colab": {
          "base_uri": "https://localhost:8080/"
        },
        "id": "fgUUKsMhcyfG",
        "outputId": "09efdcd1-9f10-4981-c200-c3bcb96da355"
      },
      "execution_count": 26,
      "outputs": [
        {
          "output_type": "execute_result",
          "data": {
            "text/plain": [
              "(26.84610468807562, 34.01653451272438)"
            ]
          },
          "metadata": {},
          "execution_count": 26
        }
      ]
    },
    {
      "cell_type": "markdown",
      "source": [
        "Напишите функцию для проверки того, что доверительные интервалы пересекаются. На лекции мы тестировали гипотезы для равенства среднего выборки заданному числу и проверяли, попало ли оно в границы этого интервала или нет, если оно оказывалось за ними, то мы говорили, что средние отличаются. Здесь же мы имеем дело с двумя выборками, поэтому будем проверять, пересекаются ли доверительные интервалы, и, если нет, то говорить о том, что средние в выборках отличаются."
      ],
      "metadata": {
        "id": "q60PntVDfVof"
      }
    },
    {
      "cell_type": "code",
      "source": [
        "def check_intervals_intersect(first_ci, second_ci):  \n",
        "    are_intersect = False\n",
        "    intersection = min(first_ci[1], second_ci[1]) - max(first_ci[0], second_ci[0])\n",
        "    if intersection >= 0:\n",
        "        are_intersect = True\n",
        "    return are_intersect # True or False"
      ],
      "metadata": {
        "id": "iIYx9Pb9fO_q"
      },
      "execution_count": 27,
      "outputs": []
    },
    {
      "cell_type": "markdown",
      "source": [
        "Теперь для каждого гена посчитайте доверительные интервалы в обоих клеточных типах, и проверьте, пересекаются ли они? Результаты можно добавлять в список, например:\n",
        "\n",
        "```python\n",
        "ci_test_results = [True, False, ..., True]\n",
        "```"
      ],
      "metadata": {
        "id": "2cpsVdR-gYkm"
      }
    },
    {
      "cell_type": "markdown",
      "source": [
        "Попытайтесь оформить это в виде функции, которая будет принимать на вход две таблицы с экспрессиями и выдавать для каждого гена, значимо ли отличается его средняя экспрессия между клеточными типами."
      ],
      "metadata": {
        "id": "GTeBsVNHhpr9"
      }
    },
    {
      "cell_type": "code",
      "source": [
        "def check_dge_with_ci(first_table, second_table):\n",
        "    # dge - differential gene expression\n",
        "    ci_test_results = {}  # {gene: result}\n",
        "\n",
        "\n",
        "    def get_ci(data):\n",
        "        ci = st.t.interval(alpha=0.95, df=len(data) - 1, loc=np.mean(data), \n",
        "                           scale=st.sem(data))\n",
        "        return ci\n",
        "\n",
        "\n",
        "    genes = list(first_table.columns)\n",
        "    genes.remove(\"Cell_type\")\n",
        "    for gene in genes:  \n",
        "        ci_1 = get_ci(first_table[gene])\n",
        "        ci_2 = get_ci(second_table[gene])\n",
        "        ci_test_results[gene] = not check_intervals_intersect(ci_1, ci_2)\n",
        "\n",
        "    return ci_test_results\n"
      ],
      "metadata": {
        "id": "UlepU0-3tu7i"
      },
      "execution_count": 34,
      "outputs": []
    },
    {
      "cell_type": "code",
      "source": [
        "ci_test_result = check_dge_with_ci(b_cells_expression_data, nk_cells_expression_data)\n",
        "# True if difference is significant\n",
        "\n",
        "n = 0\n",
        "for gene, result in ci_test_result.items():\n",
        "    if n == 10:  # show first 10 genes results\n",
        "        break \n",
        "    else:\n",
        "        print(f\"{gene}: {result}\")\n",
        "        n += 1"
      ],
      "metadata": {
        "id": "JMOoVjZsr7WU",
        "colab": {
          "base_uri": "https://localhost:8080/"
        },
        "outputId": "e7cfe334-2dbf-4a8f-fdcc-b06a9ee653c5"
      },
      "execution_count": 37,
      "outputs": [
        {
          "output_type": "stream",
          "name": "stdout",
          "text": [
            "TMCC1: False\n",
            "RANBP3: True\n",
            "GABRG3: False\n",
            "ARRDC5: True\n",
            "LRP3: False\n",
            "TIMM23: False\n",
            "TBPL1: False\n",
            "BIRC8: False\n",
            "TTC28: False\n",
            "C19orf66: True\n"
          ]
        }
      ]
    },
    {
      "cell_type": "markdown",
      "source": [
        "## Задание 3\n",
        "\n",
        "**4 баллов**"
      ],
      "metadata": {
        "id": "BTMrzw2Cjk8x"
      }
    },
    {
      "cell_type": "markdown",
      "source": [
        "Давайте теперь применим для той же задачи `z-критерий`. Будем считать, что в данном случае $\\alpha$ = 0.05, и если полученное `p-value` будет меньше, то экспрессия генов значимо отличается."
      ],
      "metadata": {
        "id": "Hg6BH7N-kilU"
      }
    },
    {
      "cell_type": "code",
      "source": [
        "from statsmodels.stats.weightstats import ztest"
      ],
      "metadata": {
        "id": "pfKgFrLCfPN5"
      },
      "execution_count": 38,
      "outputs": []
    },
    {
      "cell_type": "code",
      "source": [
        "# Наш излюбленный ген\n",
        "ztest(\n",
        "    b_cells_expression_data[example_gene],\n",
        "    nk_cells_expression_data[example_gene]\n",
        ")"
      ],
      "metadata": {
        "colab": {
          "base_uri": "https://localhost:8080/"
        },
        "id": "8ws5c8kQcyxA",
        "outputId": "f5afb40a-0832-4c68-a44f-25398dd8414b"
      },
      "execution_count": 39,
      "outputs": [
        {
          "output_type": "execute_result",
          "data": {
            "text/plain": [
              "(-1.3427434041885127, 0.17935507499860204)"
            ]
          },
          "metadata": {},
          "execution_count": 39
        }
      ]
    },
    {
      "cell_type": "markdown",
      "source": [
        "Попытайтесь оформить это в виде функции, которая будет принимать на вход две таблицы с экспрессиями и выдавать для каждого гена, значимо ли отличается его средняя экспрессия между клеточными типами."
      ],
      "metadata": {
        "id": "jouFFsZGlWr8"
      }
    },
    {
      "cell_type": "code",
      "source": [
        "def check_dge_with_ztest(first_table, second_table):\n",
        "    # dge - differential gene expression\n",
        "    z_test_results = {}  # {gene: result}\n",
        "    genes = list(first_table.columns)\n",
        "    genes.remove(\"Cell_type\")\n",
        "    for gene in genes:  \n",
        "        p = ztest(first_table[gene], second_table[gene])[1]\n",
        "        z_test_results[gene] = True if p < 0.05 else False\n",
        "\n",
        "    return z_test_results"
      ],
      "metadata": {
        "id": "aXc720tmhNt7"
      },
      "execution_count": 45,
      "outputs": []
    },
    {
      "cell_type": "code",
      "source": [
        "ztest_result = check_dge_with_ztest(b_cells_expression_data, nk_cells_expression_data)\n",
        "# True if difference is significant\n",
        "\n",
        "n = 0\n",
        "for gene, result in ztest_result.items():\n",
        "    if n == 10:  # show first 10 genes results\n",
        "        break \n",
        "    else:\n",
        "        print(f\"{gene}: {result}\")\n",
        "        n += 1"
      ],
      "metadata": {
        "colab": {
          "base_uri": "https://localhost:8080/"
        },
        "id": "JSqXrE9l8ZVN",
        "outputId": "994099c2-3deb-481a-b2e4-6ceb83f4d429"
      },
      "execution_count": 47,
      "outputs": [
        {
          "output_type": "stream",
          "name": "stdout",
          "text": [
            "TMCC1: False\n",
            "RANBP3: True\n",
            "GABRG3: False\n",
            "ARRDC5: True\n",
            "LRP3: False\n",
            "TIMM23: False\n",
            "TBPL1: False\n",
            "BIRC8: False\n",
            "TTC28: False\n",
            "C19orf66: True\n"
          ]
        }
      ]
    },
    {
      "cell_type": "markdown",
      "source": [
        "## Задание 4\n",
        "\n",
        "**10 баллов**"
      ],
      "metadata": {
        "id": "TZpNj9EMlenZ"
      }
    },
    {
      "cell_type": "markdown",
      "source": [
        "Теперь пришла пора оформить все ваши старания в виде программы. Напишите программу, которая принимает на вход следующие аргуметры:\n",
        "\n",
        "1. `first_cell_type_expressions_path` &ndash; путь до таблицы с экспрессиями генов для одного клеточного типа;\n",
        "2. `second_cell_type_expressions_path` &ndash; путь до таблицы с экспрессиями генов для второго клеточного типа;\n",
        "3. `save_results_table` &ndash; название таблицы с результатами.\n",
        "\n",
        "Считывать аргументы можно любым удобным способом (например, `input`, `argparse`).\n",
        "\n",
        "Как читать данные при помощи пандаса мы уже знаем, осталось понять, как записывать результаты. Допустим, вы записывали результаты ваших тестов в списки, тогда создать пандасовский датафрейм можно следующим образом:"
      ],
      "metadata": {
        "id": "sqCB9SY9ljrn"
      }
    },
    {
      "cell_type": "code",
      "source": [
        "ci_test_results = [True, False, True]\n",
        "z_test_results = [True, True, True]\n",
        "# Опционально можно также сохранять p-value для z-критерия\n",
        "z_test_p_values = [0.004, 0.01, 0.0001]\n",
        "# Также сохраните разницу в средних экспрессиях между 1 и 2 таблицами для каждого гена,\n",
        "# чтобы было понять, уменьшается или увеличивается экспрессия гена\n",
        "mean_diff = [-10, 10, 0.5]\n",
        "\n",
        "# Созданим словарь {'название колонки': список_значений}\n",
        "results = {\n",
        "    \"ci_test_results\": ci_test_results,\n",
        "    \"z_test_results\": z_test_results,\n",
        "    \"z_test_p_values\": z_test_p_values,\n",
        "    \"mean_diff\": mean_diff\n",
        "}\n",
        "\n",
        "# Из словаря делаем датафрейм\n",
        "results = pd.DataFrame(results)\n",
        "results.head()"
      ],
      "metadata": {
        "colab": {
          "base_uri": "https://localhost:8080/",
          "height": 153
        },
        "id": "UK3kTYEBljMl",
        "outputId": "164a2f08-4909-4fa2-fee9-e77b2c3bf47d"
      },
      "execution_count": null,
      "outputs": [
        {
          "output_type": "execute_result",
          "data": {
            "text/plain": [
              "   ci_test_results  z_test_results  z_test_p_values  mean_diff\n",
              "0             True            True           0.0040      -10.0\n",
              "1            False            True           0.0100       10.0\n",
              "2             True            True           0.0001        0.5"
            ],
            "text/html": [
              "\n",
              "  <div id=\"df-f31aa3a4-d86c-405c-82d8-2fcdb1fb2c23\">\n",
              "    <div class=\"colab-df-container\">\n",
              "      <div>\n",
              "<style scoped>\n",
              "    .dataframe tbody tr th:only-of-type {\n",
              "        vertical-align: middle;\n",
              "    }\n",
              "\n",
              "    .dataframe tbody tr th {\n",
              "        vertical-align: top;\n",
              "    }\n",
              "\n",
              "    .dataframe thead th {\n",
              "        text-align: right;\n",
              "    }\n",
              "</style>\n",
              "<table border=\"1\" class=\"dataframe\">\n",
              "  <thead>\n",
              "    <tr style=\"text-align: right;\">\n",
              "      <th></th>\n",
              "      <th>ci_test_results</th>\n",
              "      <th>z_test_results</th>\n",
              "      <th>z_test_p_values</th>\n",
              "      <th>mean_diff</th>\n",
              "    </tr>\n",
              "  </thead>\n",
              "  <tbody>\n",
              "    <tr>\n",
              "      <th>0</th>\n",
              "      <td>True</td>\n",
              "      <td>True</td>\n",
              "      <td>0.0040</td>\n",
              "      <td>-10.0</td>\n",
              "    </tr>\n",
              "    <tr>\n",
              "      <th>1</th>\n",
              "      <td>False</td>\n",
              "      <td>True</td>\n",
              "      <td>0.0100</td>\n",
              "      <td>10.0</td>\n",
              "    </tr>\n",
              "    <tr>\n",
              "      <th>2</th>\n",
              "      <td>True</td>\n",
              "      <td>True</td>\n",
              "      <td>0.0001</td>\n",
              "      <td>0.5</td>\n",
              "    </tr>\n",
              "  </tbody>\n",
              "</table>\n",
              "</div>\n",
              "      <button class=\"colab-df-convert\" onclick=\"convertToInteractive('df-f31aa3a4-d86c-405c-82d8-2fcdb1fb2c23')\"\n",
              "              title=\"Convert this dataframe to an interactive table.\"\n",
              "              style=\"display:none;\">\n",
              "        \n",
              "  <svg xmlns=\"http://www.w3.org/2000/svg\" height=\"24px\"viewBox=\"0 0 24 24\"\n",
              "       width=\"24px\">\n",
              "    <path d=\"M0 0h24v24H0V0z\" fill=\"none\"/>\n",
              "    <path d=\"M18.56 5.44l.94 2.06.94-2.06 2.06-.94-2.06-.94-.94-2.06-.94 2.06-2.06.94zm-11 1L8.5 8.5l.94-2.06 2.06-.94-2.06-.94L8.5 2.5l-.94 2.06-2.06.94zm10 10l.94 2.06.94-2.06 2.06-.94-2.06-.94-.94-2.06-.94 2.06-2.06.94z\"/><path d=\"M17.41 7.96l-1.37-1.37c-.4-.4-.92-.59-1.43-.59-.52 0-1.04.2-1.43.59L10.3 9.45l-7.72 7.72c-.78.78-.78 2.05 0 2.83L4 21.41c.39.39.9.59 1.41.59.51 0 1.02-.2 1.41-.59l7.78-7.78 2.81-2.81c.8-.78.8-2.07 0-2.86zM5.41 20L4 18.59l7.72-7.72 1.47 1.35L5.41 20z\"/>\n",
              "  </svg>\n",
              "      </button>\n",
              "      \n",
              "  <style>\n",
              "    .colab-df-container {\n",
              "      display:flex;\n",
              "      flex-wrap:wrap;\n",
              "      gap: 12px;\n",
              "    }\n",
              "\n",
              "    .colab-df-convert {\n",
              "      background-color: #E8F0FE;\n",
              "      border: none;\n",
              "      border-radius: 50%;\n",
              "      cursor: pointer;\n",
              "      display: none;\n",
              "      fill: #1967D2;\n",
              "      height: 32px;\n",
              "      padding: 0 0 0 0;\n",
              "      width: 32px;\n",
              "    }\n",
              "\n",
              "    .colab-df-convert:hover {\n",
              "      background-color: #E2EBFA;\n",
              "      box-shadow: 0px 1px 2px rgba(60, 64, 67, 0.3), 0px 1px 3px 1px rgba(60, 64, 67, 0.15);\n",
              "      fill: #174EA6;\n",
              "    }\n",
              "\n",
              "    [theme=dark] .colab-df-convert {\n",
              "      background-color: #3B4455;\n",
              "      fill: #D2E3FC;\n",
              "    }\n",
              "\n",
              "    [theme=dark] .colab-df-convert:hover {\n",
              "      background-color: #434B5C;\n",
              "      box-shadow: 0px 1px 3px 1px rgba(0, 0, 0, 0.15);\n",
              "      filter: drop-shadow(0px 1px 2px rgba(0, 0, 0, 0.3));\n",
              "      fill: #FFFFFF;\n",
              "    }\n",
              "  </style>\n",
              "\n",
              "      <script>\n",
              "        const buttonEl =\n",
              "          document.querySelector('#df-f31aa3a4-d86c-405c-82d8-2fcdb1fb2c23 button.colab-df-convert');\n",
              "        buttonEl.style.display =\n",
              "          google.colab.kernel.accessAllowed ? 'block' : 'none';\n",
              "\n",
              "        async function convertToInteractive(key) {\n",
              "          const element = document.querySelector('#df-f31aa3a4-d86c-405c-82d8-2fcdb1fb2c23');\n",
              "          const dataTable =\n",
              "            await google.colab.kernel.invokeFunction('convertToInteractive',\n",
              "                                                     [key], {});\n",
              "          if (!dataTable) return;\n",
              "\n",
              "          const docLinkHtml = 'Like what you see? Visit the ' +\n",
              "            '<a target=\"_blank\" href=https://colab.research.google.com/notebooks/data_table.ipynb>data table notebook</a>'\n",
              "            + ' to learn more about interactive tables.';\n",
              "          element.innerHTML = '';\n",
              "          dataTable['output_type'] = 'display_data';\n",
              "          await google.colab.output.renderOutput(dataTable, element);\n",
              "          const docLink = document.createElement('div');\n",
              "          docLink.innerHTML = docLinkHtml;\n",
              "          element.appendChild(docLink);\n",
              "        }\n",
              "      </script>\n",
              "    </div>\n",
              "  </div>\n",
              "  "
            ]
          },
          "metadata": {},
          "execution_count": 48
        }
      ]
    },
    {
      "cell_type": "code",
      "source": [
        "# Сохраним таблицу в .csv файл\n",
        "results.to_csv(\"path_to_your_awesome_results.csv\")"
      ],
      "metadata": {
        "id": "WvjHjmLcoBQO"
      },
      "execution_count": null,
      "outputs": []
    },
    {
      "cell_type": "markdown",
      "source": [
        "## Задание 5\n",
        "\n",
        "**0.5 баллов (доп.)**\n",
        "\n",
        "В онлайне сложно знакомиться, а особенно сейчас. Созвонитесь с кем-то из других студентов и прикрипите сюда скрин вашего созвона. Можно коротко описать, о чем вы говорили)"
      ],
      "metadata": {
        "id": "AnjRiJBtqbCu"
      }
    }
  ]
}